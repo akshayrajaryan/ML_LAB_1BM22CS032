{
  "nbformat": 4,
  "nbformat_minor": 0,
  "metadata": {
    "colab": {
      "provenance": []
    },
    "kernelspec": {
      "name": "python3",
      "display_name": "Python 3"
    },
    "language_info": {
      "name": "python"
    }
  },
  "cells": [
    {
      "cell_type": "code",
      "execution_count": 3,
      "metadata": {
        "colab": {
          "base_uri": "https://localhost:8080/"
        },
        "id": "8grt1EIQgxz_",
        "outputId": "66d8367c-3076-4ece-e3b5-f6e48d245c63"
      },
      "outputs": [
        {
          "output_type": "stream",
          "name": "stdout",
          "text": [
            "Decision Tree Classification for IRIS Dataset:\n",
            "Accuracy: 1.0\n",
            "Confusion Matrix:\n",
            " [[10  0  0]\n",
            " [ 0  9  0]\n",
            " [ 0  0 11]]\n",
            "Classification Report:\n",
            "                  precision    recall  f1-score   support\n",
            "\n",
            "    Iris-setosa       1.00      1.00      1.00        10\n",
            "Iris-versicolor       1.00      1.00      1.00         9\n",
            " Iris-virginica       1.00      1.00      1.00        11\n",
            "\n",
            "       accuracy                           1.00        30\n",
            "      macro avg       1.00      1.00      1.00        30\n",
            "   weighted avg       1.00      1.00      1.00        30\n",
            "\n",
            "\n",
            "Decision Tree Classification for Drug Dataset:\n",
            "Accuracy: 1.0\n",
            "Confusion Matrix:\n",
            " [[ 6  0  0  0  0]\n",
            " [ 0  3  0  0  0]\n",
            " [ 0  0  5  0  0]\n",
            " [ 0  0  0 11  0]\n",
            " [ 0  0  0  0 15]]\n",
            "Classification Report:\n",
            "               precision    recall  f1-score   support\n",
            "\n",
            "       drugA       1.00      1.00      1.00         6\n",
            "       drugB       1.00      1.00      1.00         3\n",
            "       drugC       1.00      1.00      1.00         5\n",
            "       drugX       1.00      1.00      1.00        11\n",
            "       drugY       1.00      1.00      1.00        15\n",
            "\n",
            "    accuracy                           1.00        40\n",
            "   macro avg       1.00      1.00      1.00        40\n",
            "weighted avg       1.00      1.00      1.00        40\n",
            "\n",
            "\n",
            "Decision Tree Regression for Petrol Consumption:\n",
            "Mean Absolute Error: 96.7\n",
            "Mean Squared Error: 17371.7\n",
            "Root Mean Squared Error: 131.80174505673284\n"
          ]
        }
      ],
      "source": [
        "import pandas as pd\n",
        "import numpy as np\n",
        "import matplotlib.pyplot as plt\n",
        "from sklearn.model_selection import train_test_split\n",
        "from sklearn.tree import DecisionTreeClassifier, DecisionTreeRegressor, plot_tree\n",
        "from sklearn.metrics import accuracy_score, confusion_matrix, classification_report, mean_absolute_error, mean_squared_error\n",
        "from sklearn.preprocessing import LabelEncoder # Import LabelEncoder for encoding categorical features\n",
        "\n",
        "# Load datasets\n",
        "iris = pd.read_csv(\"/content/iris.csv\")\n",
        "drug = pd.read_csv(\"/content/drug.csv\")\n",
        "petrol = pd.read_csv(\"/content/petrol_consumption.csv\")\n",
        "\n",
        "# --- Decision Tree Classifier for IRIS dataset ---\n",
        "X_iris = iris.iloc[:, :-1]\n",
        "y_iris = iris.iloc[:, -1]\n",
        "X_train, X_test, y_train, y_test = train_test_split(X_iris, y_iris, test_size=0.2, random_state=42)\n",
        "\n",
        "dtc = DecisionTreeClassifier()\n",
        "dtc.fit(X_train, y_train)\n",
        "y_pred = dtc.predict(X_test)\n",
        "\n",
        "print(\"Decision Tree Classification for IRIS Dataset:\")\n",
        "print(\"Accuracy:\", accuracy_score(y_test, y_pred))\n",
        "print(\"Confusion Matrix:\\n\", confusion_matrix(y_test, y_pred))\n",
        "print(\"Classification Report:\\n\", classification_report(y_test, y_pred))\n",
        "\n",
        "# --- Decision Tree Classifier for Drug dataset ---\n",
        "X_drug = drug.iloc[:, :-1]\n",
        "y_drug = drug.iloc[:, -1]\n",
        "\n",
        "# Create a LabelEncoder object\n",
        "le = LabelEncoder()\n",
        "\n",
        "# Fit and transform the categorical features in X_drug\n",
        "for col in X_drug.select_dtypes(include=['object']).columns:\n",
        "    X_drug[col] = le.fit_transform(X_drug[col]) # Encode categorical features to numerical values\n",
        "\n",
        "X_train, X_test, y_train, y_test = train_test_split(X_drug, y_drug, test_size=0.2, random_state=42)\n",
        "\n",
        "dtc = DecisionTreeClassifier()\n",
        "dtc.fit(X_train, y_train)\n",
        "y_pred = dtc.predict(X_test)\n",
        "\n",
        "print(\"\\nDecision Tree Classification for Drug Dataset:\")\n",
        "print(\"Accuracy:\", accuracy_score(y_test, y_pred))\n",
        "print(\"Confusion Matrix:\\n\", confusion_matrix(y_test, y_pred))\n",
        "print(\"Classification Report:\\n\", classification_report(y_test, y_pred))\n",
        "\n",
        "# --- Decision Tree Regression for Petrol Consumption ---\n",
        "X_petrol = petrol.iloc[:, :-1]\n",
        "y_petrol = petrol.iloc[:, -1]\n",
        "X_train, X_test, y_train, y_test = train_test_split(X_petrol, y_petrol, test_size=0.2, random_state=42)\n",
        "\n",
        "dtr = DecisionTreeRegressor()\n",
        "dtr.fit(X_train, y_train)\n",
        "y_pred = dtr.predict(X_test)\n",
        "\n",
        "print(\"\\nDecision Tree Regression for Petrol Consumption:\")\n",
        "print(\"Mean Absolute Error:\", mean_absolute_error(y_test, y_pred))\n",
        "print(\"Mean Squared Error:\", mean_squared_error(y_test, y_pred))\n",
        "print(\"Root Mean Squared Error:\", np.sqrt(mean_squared_error(y_test, y_pred)))"
      ]
    },
    {
      "cell_type": "code",
      "source": [],
      "metadata": {
        "id": "7wgc7ynMjdnu"
      },
      "execution_count": null,
      "outputs": []
    }
  ]
}